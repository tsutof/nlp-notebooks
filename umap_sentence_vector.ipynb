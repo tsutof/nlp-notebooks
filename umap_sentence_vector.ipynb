{
 "cells": [
  {
   "cell_type": "markdown",
   "id": "d9bc87ae-ba1e-4704-be1b-9de4a926dee0",
   "metadata": {},
   "source": [
    "# 文章埋め込み表現をUMAPで可視化する"
   ]
  },
  {
   "cell_type": "markdown",
   "id": "9996992c-9be0-45ca-b8f8-8a6fbcd3f858",
   "metadata": {},
   "source": [
    "❗ **Google Colabで実行する場合、ランタイムのタイプはGPU（T4, V100, A100など）を指定すること**"
   ]
  },
  {
   "cell_type": "code",
   "execution_count": null,
   "id": "9ceedbbf",
   "metadata": {
    "id": "9ceedbbf"
   },
   "outputs": [],
   "source": [
    "!python -m pip install \\\n",
    "umap \\\n",
    "matplotlib \\\n",
    "scikit-learn \\\n",
    "seaborn \\\n",
    "umap-learn \\\n",
    "sentence-transformers"
   ]
  },
  {
   "cell_type": "code",
   "execution_count": null,
   "id": "e4cd3184-1e98-4453-b606-a3d9865c92eb",
   "metadata": {},
   "outputs": [],
   "source": [
    "data_path = \"data\""
   ]
  },
  {
   "cell_type": "markdown",
   "id": "e80605ac-d3b3-4ce8-9c71-f05124d7a3ce",
   "metadata": {},
   "source": [
    "livedoorニュースコーパス・データセットをダウンロード"
   ]
  },
  {
   "cell_type": "code",
   "execution_count": null,
   "id": "EhpkeARd4cNP",
   "metadata": {
    "id": "EhpkeARd4cNP"
   },
   "outputs": [],
   "source": [
    "!wget -P {data_path} -nc \"https://www.rondhuit.com/download/ldcc-20140209.tar.gz\""
   ]
  },
  {
   "cell_type": "markdown",
   "id": "4300d6d4-9c3a-4682-8f7f-0076091c896e",
   "metadata": {},
   "source": [
    "データセットを展開"
   ]
  },
  {
   "cell_type": "code",
   "execution_count": null,
   "id": "OAe-2lp043hL",
   "metadata": {
    "id": "OAe-2lp043hL"
   },
   "outputs": [],
   "source": [
    "!tar -zxf {data_path}/ldcc-20140209.tar.gz -C {data_path}"
   ]
  },
  {
   "cell_type": "code",
   "execution_count": null,
   "id": "9d675765-150d-4d5f-8b34-37e0534cac72",
   "metadata": {
    "id": "9d675765-150d-4d5f-8b34-37e0534cac72"
   },
   "outputs": [],
   "source": [
    "import os\n",
    "import glob\n",
    "import numpy as np\n",
    "import matplotlib.pyplot as plt\n",
    "import seaborn as sns\n",
    "import pandas as pd\n",
    "from sentence_transformers import SentenceTransformer\n",
    "import umap.umap_ as umap\n",
    "import time\n",
    "%matplotlib inline"
   ]
  },
  {
   "cell_type": "markdown",
   "id": "11086846-73f3-4654-b803-8f0257465cac",
   "metadata": {},
   "source": [
    "テキストファイルからデータを抽出する関数\n",
    "[【実装解説】日本語版BERTでlivedoorニュース分類：Google Colaboratoryで（PyTorch）](https://qiita.com/sugulu_Ogawa_ISID/items/697bd03499c1de9cf082)を参考にさせていただきました"
   ]
  },
  {
   "cell_type": "code",
   "execution_count": null,
   "id": "fb0c202f-da2f-43a7-93f0-c551c0fb6efe",
   "metadata": {
    "id": "fb0c202f-da2f-43a7-93f0-c551c0fb6efe"
   },
   "outputs": [],
   "source": [
    "def extract_contents(file_name):\n",
    "    with open(file_name) as file:\n",
    "        lines = file.readlines()\n",
    "    title = lines[2].strip()\n",
    "    contents = lines[3:]\n",
    "    contents = [sentence.strip() for sentence in contents]\n",
    "    contents = list(filter(lambda line: line != '', contents))\n",
    "    contents = [l.translate(str.maketrans({'\\n': '', '\\t': '', '\\r': '', '\\u3000': ''}))\n",
    "        for l in contents]\n",
    "    contents = [\"\".join(contents)]\n",
    "    return title, contents"
   ]
  },
  {
   "cell_type": "markdown",
   "id": "60c38f00-9c7c-4cd9-b1ba-9050d563d4a2",
   "metadata": {},
   "source": [
    "一つのファイルで試してみる"
   ]
  },
  {
   "cell_type": "code",
   "execution_count": null,
   "id": "25efa1d1-94d0-40bb-905d-6959da7453c5",
   "metadata": {
    "id": "25efa1d1-94d0-40bb-905d-6959da7453c5"
   },
   "outputs": [],
   "source": [
    "contents_path = os.path.join(data_path, \"text\")\n",
    "file_name = os.path.join(contents_path, \"dokujo-tsushin\", \"dokujo-tsushin-4778030.txt\")\n",
    "extract_contents(file_name)"
   ]
  },
  {
   "cell_type": "markdown",
   "id": "c2a12b33-6a51-4e11-a548-07087a0dd03a",
   "metadata": {},
   "source": [
    "データセット全体を処理する（著作権に関する注意事項が記載されているファイルはデータから除外）"
   ]
  },
  {
   "cell_type": "code",
   "execution_count": null,
   "id": "c729ed2a-91c4-4f02-95f1-2fac10d4c1f8",
   "metadata": {
    "id": "c729ed2a-91c4-4f02-95f1-2fac10d4c1f8"
   },
   "outputs": [],
   "source": [
    "data_list = []\n",
    "categories = []\n",
    "\n",
    "for cat in os.listdir(contents_path):\n",
    "    if not os.path.isdir(os.path.join(contents_path, cat)):\n",
    "        continue\n",
    "    print(cat)\n",
    "    categories.append(cat)\n",
    "    files = glob.glob(os.path.join(contents_path, cat, \"*.txt\"))\n",
    "    for f in files:\n",
    "        title, contents = extract_contents(f)\n",
    "        if title.startswith(\"原著作者のクレジットを表示し、\"):\n",
    "            continue\n",
    "        data_list += [[cat, title, cnt] for cnt in contents]"
   ]
  },
  {
   "cell_type": "code",
   "execution_count": null,
   "id": "ff257d17-3442-4917-87f2-eca9a9d8d829",
   "metadata": {
    "id": "ff257d17-3442-4917-87f2-eca9a9d8d829"
   },
   "outputs": [],
   "source": [
    "len(data_list)"
   ]
  },
  {
   "cell_type": "code",
   "execution_count": null,
   "id": "cfab2fae-a28f-419c-9055-a59e262fffe9",
   "metadata": {
    "id": "cfab2fae-a28f-419c-9055-a59e262fffe9"
   },
   "outputs": [],
   "source": [
    "data_list[2]"
   ]
  },
  {
   "cell_type": "markdown",
   "id": "0a926d24-bcfc-4fad-99a3-50e912a5f365",
   "metadata": {},
   "source": [
    "後で、データの中身をチェックしやすいように、データをPandasデータフレームに格納する"
   ]
  },
  {
   "cell_type": "code",
   "execution_count": null,
   "id": "919b14cd-4445-4390-838e-e9c77a64a538",
   "metadata": {
    "id": "919b14cd-4445-4390-838e-e9c77a64a538"
   },
   "outputs": [],
   "source": [
    "data_frame = pd.DataFrame(data_list, columns=[\"category\", \"title\", \"sentence\"])"
   ]
  },
  {
   "cell_type": "code",
   "execution_count": null,
   "id": "958b4fa6-f8c0-4c7d-b716-8478deb667c4",
   "metadata": {
    "id": "958b4fa6-f8c0-4c7d-b716-8478deb667c4"
   },
   "outputs": [],
   "source": [
    "data_frame.head()"
   ]
  },
  {
   "cell_type": "code",
   "execution_count": null,
   "id": "df15e396-6425-4be7-80f6-fc45dbd844b0",
   "metadata": {
    "id": "df15e396-6425-4be7-80f6-fc45dbd844b0"
   },
   "outputs": [],
   "source": [
    "data = data_frame[\"sentence\"]"
   ]
  },
  {
   "cell_type": "markdown",
   "id": "45382180-7d61-4e73-ad38-be00f7045e36",
   "metadata": {},
   "source": [
    "文章をベクトルに変換するモデルを取得"
   ]
  },
  {
   "cell_type": "code",
   "execution_count": null,
   "id": "324fcdf4-7422-4eac-84a8-1fd72852b42d",
   "metadata": {
    "id": "324fcdf4-7422-4eac-84a8-1fd72852b42d"
   },
   "outputs": [],
   "source": [
    "model = SentenceTransformer(\n",
    "    'sentence-transformers/distiluse-base-multilingual-cased-v2')"
   ]
  },
  {
   "cell_type": "markdown",
   "id": "dcda418c-2e7e-4396-9ace-6faffdb2f7b0",
   "metadata": {},
   "source": [
    "データをベクトルデータに変換  \n",
    "1ファイルにつき1ベクトルデータなので、変換されたデータの形状は、ファイル数 x ベクトル次元数"
   ]
  },
  {
   "cell_type": "code",
   "execution_count": null,
   "id": "daab9a09-6a41-478f-a02a-1fcec5b4c847",
   "metadata": {
    "id": "daab9a09-6a41-478f-a02a-1fcec5b4c847"
   },
   "outputs": [],
   "source": [
    "embeddings = model.encode(data, show_progress_bar=True)\n",
    "embeddings.shape"
   ]
  },
  {
   "cell_type": "markdown",
   "id": "e51635a9-5550-44f3-8f40-4f97ecd913e8",
   "metadata": {},
   "source": [
    "UMAPで次元削減"
   ]
  },
  {
   "cell_type": "code",
   "execution_count": null,
   "id": "2e98d5ae-7468-4671-b335-ea3bc39d4ed2",
   "metadata": {
    "id": "2e98d5ae-7468-4671-b335-ea3bc39d4ed2"
   },
   "outputs": [],
   "source": [
    "reducer = umap.UMAP()"
   ]
  },
  {
   "cell_type": "code",
   "execution_count": null,
   "id": "7def1fdf-bb72-482d-b351-a04162f53253",
   "metadata": {
    "id": "7def1fdf-bb72-482d-b351-a04162f53253"
   },
   "outputs": [],
   "source": [
    "stime = time.time()\n",
    "mapped_data = reducer.fit_transform(embeddings)\n",
    "print(time.time() - stime)\n",
    "mapped_data.shape"
   ]
  },
  {
   "cell_type": "markdown",
   "id": "25dc9338-9402-4f40-8519-082af3f6a3b8",
   "metadata": {},
   "source": [
    "UMAPの処理結果をPandasデータフレームに格納"
   ]
  },
  {
   "cell_type": "code",
   "execution_count": null,
   "id": "3716d10f-f0dd-4fa0-baad-c59cb49134c5",
   "metadata": {
    "id": "3716d10f-f0dd-4fa0-baad-c59cb49134c5"
   },
   "outputs": [],
   "source": [
    "data_frame[\"umap_x\"] = mapped_data[:, 0]\n",
    "data_frame[\"umap_y\"] = mapped_data[:, 1]"
   ]
  },
  {
   "cell_type": "code",
   "execution_count": null,
   "id": "28ac19d6-68ab-496e-9e13-5161d3c06df0",
   "metadata": {
    "id": "28ac19d6-68ab-496e-9e13-5161d3c06df0"
   },
   "outputs": [],
   "source": [
    "data_frame.head()"
   ]
  },
  {
   "cell_type": "code",
   "execution_count": null,
   "id": "5380a00e-607c-47b1-a854-0e1c39dee46a",
   "metadata": {
    "id": "5380a00e-607c-47b1-a854-0e1c39dee46a"
   },
   "outputs": [],
   "source": [
    "cat_data = data_frame[\"category\"]\n",
    "numbers = range(len(categories))\n",
    "color_dict = {cat: num for cat, num in zip(categories, numbers)}"
   ]
  },
  {
   "cell_type": "markdown",
   "id": "ee94d3e6-f960-4708-83e4-7f7cb090b544",
   "metadata": {},
   "source": [
    "散布図で可視化"
   ]
  },
  {
   "cell_type": "code",
   "execution_count": null,
   "id": "d87a6c7f-837c-4532-86e2-4b7e5d86941a",
   "metadata": {
    "id": "d87a6c7f-837c-4532-86e2-4b7e5d86941a"
   },
   "outputs": [],
   "source": [
    "fig, ax = plt.subplots()\n",
    "\n",
    "for cat in categories:\n",
    "    color = sns.color_palette()[color_dict[cat]]\n",
    "    df = data_frame[data_frame[\"category\"] == cat]\n",
    "    x = df[\"umap_x\"].values\n",
    "    y = df[\"umap_y\"].values\n",
    "    n = len(x)\n",
    "    scatter = ax.scatter(\n",
    "        x, y,\n",
    "        color=color,\n",
    "        label=cat,\n",
    "        marker=\".\"\n",
    "    )\n",
    "    print(f\"{cat} {n}\")\n",
    "\n",
    "ax.legend()\n",
    "ax.grid(True)\n",
    "plt.gca().set_aspect(\"equal\", \"datalim\")\n",
    "plt.title(\"UMAP projection of the livedoor news corpus\", fontsize=20)\n",
    "plt.show()\n",
    "xlim = ax.get_xlim()\n",
    "ylim = ax.get_ylim()"
   ]
  },
  {
   "cell_type": "markdown",
   "id": "b34e9b4c-9d00-4fb3-a9f0-f7f236641035",
   "metadata": {},
   "source": [
    "カテゴリー毎にプロットしてみる"
   ]
  },
  {
   "cell_type": "code",
   "execution_count": null,
   "id": "bb33364a-1c8a-4db6-8ecb-d87b601740e5",
   "metadata": {
    "id": "bb33364a-1c8a-4db6-8ecb-d87b601740e5"
   },
   "outputs": [],
   "source": [
    "num_figs = len(categories)\n",
    "num_cols = 3\n",
    "num_rows = (num_figs + num_cols - 1) // num_cols\n",
    "\n",
    "fig, axs = plt.subplots(ncols=num_cols, nrows=num_rows, figsize=(9, 6),\n",
    "                        layout=\"constrained\")\n",
    "\n",
    "i = 0\n",
    "for row in range(num_rows):\n",
    "    for col in range(num_cols):\n",
    "        cat = categories[i]\n",
    "        color = sns.color_palette()[color_dict[cat]]\n",
    "        df = data_frame[data_frame[\"category\"] == cat]\n",
    "        x = df[\"umap_x\"].values\n",
    "        y = df[\"umap_y\"].values\n",
    "        ax = axs[row, col]\n",
    "        ax.set_xlim(xlim)\n",
    "        ax.set_ylim(ylim)\n",
    "        ax.grid(True)\n",
    "        ax.scatter(\n",
    "            x, y,\n",
    "            color=color,\n",
    "            label=cat,\n",
    "            marker=\".\"\n",
    "        )\n",
    "        ax.annotate(\n",
    "            f\"{cat}\", (xlim[0], ylim[1]),\n",
    "            transform=axs[row, col].transAxes,\n",
    "            ha='left', va='top', fontsize=18,\n",
    "            color='darkgrey'\n",
    "        )\n",
    "        i += 1\n",
    "fig.suptitle(\"UMAP projection of the livedoor news corpus\")"
   ]
  },
  {
   "cell_type": "markdown",
   "id": "7bd666e8-56fa-48b4-9424-15ee4e51ae56",
   "metadata": {},
   "source": [
    "散布図から、外れ値のように見えるデータは、以下のように、Pandasデータフレームの条件抽出で内容をチェックできる"
   ]
  },
  {
   "cell_type": "code",
   "execution_count": null,
   "id": "ff2da09b-305b-4267-ad02-9d14c2212ae2",
   "metadata": {
    "id": "ff2da09b-305b-4267-ad02-9d14c2212ae2"
   },
   "outputs": [],
   "source": [
    "# data_frame[(data_frame[\"category\"] == \"smax\") & (data_frame[\"umap_y\"] > 8.0)]"
   ]
  },
  {
   "cell_type": "code",
   "execution_count": null,
   "id": "567a633d-451b-4e72-a3d6-2b4ef8dfb9e2",
   "metadata": {
    "id": "567a633d-451b-4e72-a3d6-2b4ef8dfb9e2"
   },
   "outputs": [],
   "source": [
    "# data_frame[(data_frame[\"category\"] == \"sports-watch\") & (data_frame[\"umap_y\"] < 5.0)]"
   ]
  },
  {
   "cell_type": "code",
   "execution_count": null,
   "id": "ecb9ae08-bb8f-4065-bfda-9ded31643f53",
   "metadata": {
    "id": "ecb9ae08-bb8f-4065-bfda-9ded31643f53"
   },
   "outputs": [],
   "source": []
  }
 ],
 "metadata": {
  "accelerator": "GPU",
  "colab": {
   "gpuType": "T4",
   "provenance": []
  },
  "kernelspec": {
   "display_name": "Python 3 (ipykernel)",
   "language": "python",
   "name": "python3"
  },
  "language_info": {
   "codemirror_mode": {
    "name": "ipython",
    "version": 3
   },
   "file_extension": ".py",
   "mimetype": "text/x-python",
   "name": "python",
   "nbconvert_exporter": "python",
   "pygments_lexer": "ipython3",
   "version": "3.10.13"
  }
 },
 "nbformat": 4,
 "nbformat_minor": 5
}
